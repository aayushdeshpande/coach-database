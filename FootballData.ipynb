{
 "cells": [
  {
   "cell_type": "code",
   "execution_count": 6,
   "metadata": {},
   "outputs": [
    {
     "data": {
      "text/html": [
       "<div>\n",
       "<style scoped>\n",
       "    .dataframe tbody tr th:only-of-type {\n",
       "        vertical-align: middle;\n",
       "    }\n",
       "\n",
       "    .dataframe tbody tr th {\n",
       "        vertical-align: top;\n",
       "    }\n",
       "\n",
       "    .dataframe thead th {\n",
       "        text-align: right;\n",
       "    }\n",
       "</style>\n",
       "<table border=\"1\" class=\"dataframe\">\n",
       "  <thead>\n",
       "    <tr style=\"text-align: right;\">\n",
       "      <th></th>\n",
       "      <th>College Name</th>\n",
       "      <th>Head Coach Name</th>\n",
       "      <th>Head Coach Email</th>\n",
       "    </tr>\n",
       "  </thead>\n",
       "  <tbody>\n",
       "    <tr>\n",
       "      <th>0</th>\n",
       "      <td>Ohio State University</td>\n",
       "      <td>Ryan Day</td>\n",
       "      <td>aburgess@buckets.ath.ohio-state.edu</td>\n",
       "    </tr>\n",
       "    <tr>\n",
       "      <th>1</th>\n",
       "      <td>Michigan University</td>\n",
       "      <td>Jim Harbaugh</td>\n",
       "      <td>michiganfootball@umich.edu</td>\n",
       "    </tr>\n",
       "    <tr>\n",
       "      <th>2</th>\n",
       "      <td>University of Indiana</td>\n",
       "      <td>Tom Allen</td>\n",
       "      <td>wmlynch@indiana.edu</td>\n",
       "    </tr>\n",
       "    <tr>\n",
       "      <th>3</th>\n",
       "      <td>Northwestern University</td>\n",
       "      <td>Pat Fitzgerald</td>\n",
       "      <td>nufootball@northwestern.edu</td>\n",
       "    </tr>\n",
       "    <tr>\n",
       "      <th>4</th>\n",
       "      <td>University of Minnesota</td>\n",
       "      <td>P.J. Fleck</td>\n",
       "      <td>football@umn.edu</td>\n",
       "    </tr>\n",
       "    <tr>\n",
       "      <th>...</th>\n",
       "      <td>...</td>\n",
       "      <td>...</td>\n",
       "      <td>...</td>\n",
       "    </tr>\n",
       "    <tr>\n",
       "      <th>67</th>\n",
       "      <td>Virginia Tech University</td>\n",
       "      <td>Justin Fuente</td>\n",
       "      <td>clarkd@vt.edu</td>\n",
       "    </tr>\n",
       "    <tr>\n",
       "      <th>68</th>\n",
       "      <td>Wake Forrest University</td>\n",
       "      <td>Dave Clawson</td>\n",
       "      <td>recruitf@wfu.edu</td>\n",
       "    </tr>\n",
       "    <tr>\n",
       "      <th>69</th>\n",
       "      <td>University of Pittsburgh</td>\n",
       "      <td>Paul Narduzzi</td>\n",
       "      <td>vkline@athletics.pitt.edu</td>\n",
       "    </tr>\n",
       "    <tr>\n",
       "      <th>70</th>\n",
       "      <td>Syracuse University</td>\n",
       "      <td>Dino Babers</td>\n",
       "      <td>fbinfo@syr.edu</td>\n",
       "    </tr>\n",
       "    <tr>\n",
       "      <th>71</th>\n",
       "      <td>University of Louisville</td>\n",
       "      <td>Scott Satterfield</td>\n",
       "      <td>bobby@GoCards.com</td>\n",
       "    </tr>\n",
       "  </tbody>\n",
       "</table>\n",
       "<p>72 rows × 3 columns</p>\n",
       "</div>"
      ],
      "text/plain": [
       "                College Name    Head Coach Name  \\\n",
       "0      Ohio State University           Ryan Day   \n",
       "1        Michigan University       Jim Harbaugh   \n",
       "2      University of Indiana          Tom Allen   \n",
       "3    Northwestern University     Pat Fitzgerald   \n",
       "4    University of Minnesota         P.J. Fleck   \n",
       "..                       ...                ...   \n",
       "67  Virginia Tech University      Justin Fuente   \n",
       "68   Wake Forrest University       Dave Clawson   \n",
       "69  University of Pittsburgh      Paul Narduzzi   \n",
       "70       Syracuse University        Dino Babers   \n",
       "71  University of Louisville  Scott Satterfield   \n",
       "\n",
       "                       Head Coach Email  \n",
       "0   aburgess@buckets.ath.ohio-state.edu  \n",
       "1            michiganfootball@umich.edu  \n",
       "2                   wmlynch@indiana.edu  \n",
       "3           nufootball@northwestern.edu  \n",
       "4                      football@umn.edu  \n",
       "..                                  ...  \n",
       "67                        clarkd@vt.edu  \n",
       "68                     recruitf@wfu.edu  \n",
       "69            vkline@athletics.pitt.edu  \n",
       "70                       fbinfo@syr.edu  \n",
       "71                    bobby@GoCards.com  \n",
       "\n",
       "[72 rows x 3 columns]"
      ]
     },
     "execution_count": 6,
     "metadata": {},
     "output_type": "execute_result"
    }
   ],
   "source": [
    "import pandas as pd\n",
    "from pandas import ExcelWriter\n",
    "from pandas import ExcelFile\n",
    "\n",
    "df = pd.read_excel('FootballCoach.xlsx')\n",
    "\n",
    "df"
   ]
  },
  {
   "cell_type": "code",
   "execution_count": 7,
   "metadata": {},
   "outputs": [
    {
     "name": "stdout",
     "output_type": "stream",
     "text": [
      "Requirement already satisfied: ipython-sql in ./opt/anaconda3/lib/python3.8/site-packages (0.4.0)\n",
      "Requirement already satisfied: prettytable<1 in ./opt/anaconda3/lib/python3.8/site-packages (from ipython-sql) (0.7.2)\n",
      "Requirement already satisfied: ipython-genutils>=0.1.0 in ./opt/anaconda3/lib/python3.8/site-packages (from ipython-sql) (0.2.0)\n",
      "Requirement already satisfied: sqlparse in ./opt/anaconda3/lib/python3.8/site-packages (from ipython-sql) (0.4.1)\n",
      "Requirement already satisfied: ipython>=1.0 in ./opt/anaconda3/lib/python3.8/site-packages (from ipython-sql) (7.19.0)\n",
      "Requirement already satisfied: six in ./opt/anaconda3/lib/python3.8/site-packages (from ipython-sql) (1.15.0)\n",
      "Requirement already satisfied: sqlalchemy>=0.6.7 in ./opt/anaconda3/lib/python3.8/site-packages (from ipython-sql) (1.3.20)\n",
      "Requirement already satisfied: setuptools>=18.5 in ./opt/anaconda3/lib/python3.8/site-packages (from ipython>=1.0->ipython-sql) (50.3.1.post20201107)\n",
      "Requirement already satisfied: pygments in ./opt/anaconda3/lib/python3.8/site-packages (from ipython>=1.0->ipython-sql) (2.7.2)\n",
      "Requirement already satisfied: backcall in ./opt/anaconda3/lib/python3.8/site-packages (from ipython>=1.0->ipython-sql) (0.2.0)\n",
      "Requirement already satisfied: pexpect>4.3; sys_platform != \"win32\" in ./opt/anaconda3/lib/python3.8/site-packages (from ipython>=1.0->ipython-sql) (4.8.0)\n",
      "Requirement already satisfied: pickleshare in ./opt/anaconda3/lib/python3.8/site-packages (from ipython>=1.0->ipython-sql) (0.7.5)\n",
      "Requirement already satisfied: prompt-toolkit!=3.0.0,!=3.0.1,<3.1.0,>=2.0.0 in ./opt/anaconda3/lib/python3.8/site-packages (from ipython>=1.0->ipython-sql) (3.0.8)\n",
      "Requirement already satisfied: appnope; sys_platform == \"darwin\" in ./opt/anaconda3/lib/python3.8/site-packages (from ipython>=1.0->ipython-sql) (0.1.0)\n",
      "Requirement already satisfied: decorator in ./opt/anaconda3/lib/python3.8/site-packages (from ipython>=1.0->ipython-sql) (4.4.2)\n",
      "Requirement already satisfied: traitlets>=4.2 in ./opt/anaconda3/lib/python3.8/site-packages (from ipython>=1.0->ipython-sql) (5.0.5)\n",
      "Requirement already satisfied: jedi>=0.10 in ./opt/anaconda3/lib/python3.8/site-packages (from ipython>=1.0->ipython-sql) (0.17.1)\n",
      "Requirement already satisfied: ptyprocess>=0.5 in ./opt/anaconda3/lib/python3.8/site-packages (from pexpect>4.3; sys_platform != \"win32\"->ipython>=1.0->ipython-sql) (0.6.0)\n",
      "Requirement already satisfied: wcwidth in ./opt/anaconda3/lib/python3.8/site-packages (from prompt-toolkit!=3.0.0,!=3.0.1,<3.1.0,>=2.0.0->ipython>=1.0->ipython-sql) (0.2.5)\n",
      "Requirement already satisfied: parso<0.8.0,>=0.7.0 in ./opt/anaconda3/lib/python3.8/site-packages (from jedi>=0.10->ipython>=1.0->ipython-sql) (0.7.0)\n"
     ]
    }
   ],
   "source": [
    "!pip install ipython-sql"
   ]
  },
  {
   "cell_type": "code",
   "execution_count": 8,
   "metadata": {},
   "outputs": [],
   "source": [
    "import sqlite3"
   ]
  },
  {
   "cell_type": "code",
   "execution_count": 9,
   "metadata": {},
   "outputs": [],
   "source": [
    "dbname = 'FootballDataDb'\n",
    "conn = sqlite3.connect(dbname + '.sqlite')"
   ]
  },
  {
   "cell_type": "code",
   "execution_count": 13,
   "metadata": {},
   "outputs": [
    {
     "name": "stdout",
     "output_type": "stream",
     "text": [
      "(0, 'Ohio State University', 'Ryan Day', 'aburgess@buckets.ath.ohio-state.edu')\n",
      "(1, 'Michigan University', 'Jim Harbaugh', 'michiganfootball@umich.edu')\n",
      "(2, 'University of Indiana', 'Tom Allen', 'wmlynch@indiana.edu')\n",
      "(3, 'Northwestern University', 'Pat Fitzgerald', 'nufootball@northwestern.edu')\n",
      "(4, 'University of Minnesota', 'P.J. Fleck', 'football@umn.edu')\n",
      "(5, 'University of Wisconsin', 'Paul Chryst', 'sxb@athletics.wisc.edu')\n",
      "(6, 'Purdue University', 'Jeff Brohm', 'fbrecruit@purdue.edu')\n",
      "(7, 'Penn State University', 'James Franklin', 'ssg1@psu.edu')\n",
      "(8, 'University of Illinois', 'Lovie Smith', 'rzook@uiuc.edu')\n",
      "(9, 'Michigan State University', 'Mark Dantonio', 'football@msu.edu')\n",
      "(10, 'University of Iowa', 'Kirk Ferentz', 'kirk-ferentz@uiowa.edu')\n",
      "(11, 'University of Nebraska', 'Scott Frost', 'lleupold@huskers.com')\n",
      "(12, 'Rutgers University', 'Greg Schiano', 'football@scarletknights.com')\n",
      "(13, 'Maryland University', 'Mike Locksley', 'lynn@umd.edu')\n",
      "(14, 'Harvard University', 'Tim Murphy', 'tmurphy@fas.harvard.edu')\n",
      "(15, 'Princeton University', 'Bob Surace', 'football@princeton.edu')\n",
      "(16, 'Yale University', 'Tony Reno', 'kevin.cahill@yale.edu')\n",
      "(17, 'Columbia University', 'Al Bagnoli', 'football@columbia.edu')\n",
      "(18, 'Brown University', 'James Perry', 'james_perry@brown.edu')\n",
      "(19, 'Cornell University', 'David Archer', 'alp249@cornell.edu')\n",
      "(20, 'Darthmouth College', 'Eugene F. Teevens III', 'dartmouth.football@darmouth.edu')\n",
      "(21, 'University of Pennslyvania', 'Ray Priore', 'football@pobox.upenn.edu')\n",
      "(22, 'University of Alabama', 'Nick Saban', 'fgaston@ia.ua.edu')\n",
      "(23, 'University of Arkansas', 'Sam Pittman', 'rpetrino@uark.edu')\n",
      "(24, 'University of Auburn', 'Gus Malzahn', 'ezc0011@auburn.edu')\n",
      "(25, 'University of Florida', 'Dan Muellen', 'sams@gators.ufl.edu')\n",
      "(26, 'University of Georgia', 'Kirby Smart', 'ahunt@sports.uga.edu')\n",
      "(27, 'University of Kentucky', 'Mark Stoops', 'C.snow.iii@uky.edu')\n",
      "(28, 'Lousiana State University', 'Ed Orgeron', 'football@lsu.edu')\n",
      "(29, 'Ole Mississippi University', 'Lane Kiffin', 'chyna@olemiss.edu')\n",
      "(30, 'Mississippi State University', 'Mike Leach', 'felker@athletics.msstate.edu')\n",
      "(31, 'University of South Carolina', 'Will Muschamp', 'shinep@mailbox.sc.edu')\n",
      "(32, 'University of Tenneesee', 'Jeremy Pruitt', 'utad@utk.edu')\n",
      "(33, 'Vanderbilt University', 'Derek Mason', 'football_recuriting@vanderbilt.edu')\n",
      "(34, 'Texas A&M University', 'Jimbo Fisher', 'recruiting-fb@athletics.tamu.edu')\n",
      "(35, 'University of Missouri', 'Eliah Drinkwitz', 'hillra@missouri.edu')\n",
      "(36, 'Amherst', 'E.J. Mills', 'ejmills@amherst.edu')\n",
      "(37, 'Bates', 'Malik Hall', 'mhall2@bates.edu')\n",
      "(38, 'Bowdoin', 'BJ Hammer', 'football@bowdoin.edu')\n",
      "(39, 'Colby', 'Jack Cosgrove', 'jwcosgro@colby.edu')\n",
      "(40, 'Hamilton', 'Dave Murray', 'dmurray@hamilton.edu')\n",
      "(41, 'Middlebury', 'Bob Ritter', 'ritter@middlebury.edu')\n",
      "(42, 'Trinity', 'Jeff Devanney', 'jeffrey.devanney@trincoll.edu')\n",
      "(43, 'Tufts', 'Jay Civetti', 'jay.civetti@tufts.edu')\n",
      "(44, 'Wesleyan', 'Dan DiCenzo', 'ddicenzo@wesleyan.edu')\n",
      "(45, 'Williams', 'Mark Raymond', 'mrr1@williams.edu')\n",
      "(46, 'University of Arizona', 'Kevin Sumlin', 'kdrenkhahn@email.arizona.edu')\n",
      "(47, 'Arizona State University', 'Herm Edwards', 'Jamie.Christian.asu.edu')\n",
      "(48, 'University of California', 'Justin Wilcox', 'footbal@berkeley.edu')\n",
      "(49, 'University of Oregon', 'Mario Cristobal', 'ksfarr@uoregon.edu')\n",
      "(50, 'Oregon State University', 'Jonathan Smith', 'mike.riley@oregonstate.edu')\n",
      "(51, 'Stanford University', 'David Shaw', 'jharbaugh@stanford.edu')\n",
      "(52, 'UCLA', 'Chip Kelly', 'joliver@athletics.ucla.edu')\n",
      "(53, 'USC', 'Clay Helton', 'kmccowan@usc.edu')\n",
      "(54, 'U. Washington', 'Jimmy Lake', 'sarkuw@u.washington.edu')\n",
      "(55, 'Washington State University', 'Nick Rolovich', 'football@wsu.edu')\n",
      "(56, 'University of Colorado', 'Mel Tucker', 'cufb@colorado.edu')\n",
      "(57, 'University of Utah', 'Kyle Wittingham', 'jrudy@huntsman.utah.edu')\n",
      "(58, 'Boston College', 'Jeff Hafley', 'bc.football@bc.edu')\n",
      "(59, 'Clemson University', 'Dabo Swimney', 'johnsta@clemson.edu')\n",
      "(60, 'Duke University', 'David Cutcliffe', 'dukefootball@duaa.duke.edu')\n",
      "(61, 'Florida State University', 'Mike Norvell', 'kbh09@fsu.edu')\n",
      "(62, 'Georgia Tech University', 'Geoff Collins', 'tanton@athletics.gatech.edu')\n",
      "(63, 'University of Miami', 'Manny Diaz', 'HurricaneFootball@miami.edu')\n",
      "(64, 'University of North Carolina', 'Mack Brown', 'mberry@uncaa.unc.edu')\n",
      "(65, 'North Carolina State University', 'Dave Doeren', 'Chad_Jamison@ncsu.edu')\n",
      "(66, 'University of Virginia', 'Bronco Mendenhall', 'fbheadcoach@virginia.edu')\n",
      "(67, 'Virginia Tech University', 'Justin Fuente', 'clarkd@vt.edu')\n",
      "(68, 'Wake Forrest University', 'Dave Clawson', 'recruitf@wfu.edu')\n",
      "(69, 'University of Pittsburgh', 'Paul Narduzzi', 'vkline@athletics.pitt.edu')\n",
      "(70, 'Syracuse University', 'Dino Babers', 'fbinfo@syr.edu')\n",
      "(71, 'University of Louisville', 'Scott Satterfield', 'bobby@GoCards.com')\n"
     ]
    }
   ],
   "source": [
    "cur = conn.cursor()\n",
    "cur.execute('SELECT * FROM FootballCoach')\n",
    "for row in cur:\n",
    "    print(row)"
   ]
  },
  {
   "cell_type": "code",
   "execution_count": 11,
   "metadata": {},
   "outputs": [
    {
     "name": "stderr",
     "output_type": "stream",
     "text": [
      "/Users/aayushdeshpande/opt/anaconda3/lib/python3.8/site-packages/pandas/core/generic.py:2605: UserWarning: The spaces in these column names will not be changed. In pandas versions < 0.14, spaces were converted to underscores.\n",
      "  sql.to_sql(\n"
     ]
    }
   ],
   "source": [
    "df.to_sql(name='FootballCoach', con=conn)"
   ]
  },
  {
   "cell_type": "code",
   "execution_count": null,
   "metadata": {},
   "outputs": [],
   "source": []
  },
  {
   "cell_type": "code",
   "execution_count": null,
   "metadata": {},
   "outputs": [],
   "source": []
  },
  {
   "cell_type": "code",
   "execution_count": null,
   "metadata": {},
   "outputs": [],
   "source": []
  }
 ],
 "metadata": {
  "kernelspec": {
   "display_name": "Python 3",
   "language": "python",
   "name": "python3"
  },
  "language_info": {
   "codemirror_mode": {
    "name": "ipython",
    "version": 3
   },
   "file_extension": ".py",
   "mimetype": "text/x-python",
   "name": "python",
   "nbconvert_exporter": "python",
   "pygments_lexer": "ipython3",
   "version": "3.8.5"
  }
 },
 "nbformat": 4,
 "nbformat_minor": 4
}
