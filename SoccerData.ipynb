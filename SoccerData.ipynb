{
 "cells": [
  {
   "cell_type": "code",
   "execution_count": 1,
   "metadata": {
    "scrolled": true
   },
   "outputs": [
    {
     "data": {
      "text/html": [
       "<div>\n",
       "<style scoped>\n",
       "    .dataframe tbody tr th:only-of-type {\n",
       "        vertical-align: middle;\n",
       "    }\n",
       "\n",
       "    .dataframe tbody tr th {\n",
       "        vertical-align: top;\n",
       "    }\n",
       "\n",
       "    .dataframe thead th {\n",
       "        text-align: right;\n",
       "    }\n",
       "</style>\n",
       "<table border=\"1\" class=\"dataframe\">\n",
       "  <thead>\n",
       "    <tr style=\"text-align: right;\">\n",
       "      <th></th>\n",
       "      <th>College Name</th>\n",
       "      <th>Head Coach Name</th>\n",
       "      <th>Head Coach Email</th>\n",
       "    </tr>\n",
       "  </thead>\n",
       "  <tbody>\n",
       "    <tr>\n",
       "      <th>0</th>\n",
       "      <td>Ohio State University</td>\n",
       "      <td>Brian Maisonneuve</td>\n",
       "      <td>maisonneuve.2@osu.edu</td>\n",
       "    </tr>\n",
       "    <tr>\n",
       "      <th>1</th>\n",
       "      <td>Michigan University</td>\n",
       "      <td>Chaka Daley</td>\n",
       "      <td>ckdaley@umich.edu</td>\n",
       "    </tr>\n",
       "    <tr>\n",
       "      <th>2</th>\n",
       "      <td>University of Indiana</td>\n",
       "      <td>Todd Yeagley</td>\n",
       "      <td>kprobson@indiana.edu</td>\n",
       "    </tr>\n",
       "    <tr>\n",
       "      <th>3</th>\n",
       "      <td>Northwestern University</td>\n",
       "      <td>Tim Lenahan</td>\n",
       "      <td>t-lenahan@northwestern.edu</td>\n",
       "    </tr>\n",
       "    <tr>\n",
       "      <th>4</th>\n",
       "      <td>University of Minnesota</td>\n",
       "      <td>Devin Chuba</td>\n",
       "      <td>dchuba@morris.umn.edu</td>\n",
       "    </tr>\n",
       "    <tr>\n",
       "      <th>...</th>\n",
       "      <td>...</td>\n",
       "      <td>...</td>\n",
       "      <td>...</td>\n",
       "    </tr>\n",
       "    <tr>\n",
       "      <th>67</th>\n",
       "      <td>Virginia Tech University</td>\n",
       "      <td>Mike Brizendine</td>\n",
       "      <td>vtmsoccer@vt.edu</td>\n",
       "    </tr>\n",
       "    <tr>\n",
       "      <th>68</th>\n",
       "      <td>Wake Forrest University</td>\n",
       "      <td>Bobby Muuss</td>\n",
       "      <td>muussrp@wfu.edu</td>\n",
       "    </tr>\n",
       "    <tr>\n",
       "      <th>69</th>\n",
       "      <td>University of Pittsburgh</td>\n",
       "      <td>Jay Vidovich</td>\n",
       "      <td>msoccer@athletics.pitt.edu</td>\n",
       "    </tr>\n",
       "    <tr>\n",
       "      <th>70</th>\n",
       "      <td>Syracuse University</td>\n",
       "      <td>Ian McIntyre</td>\n",
       "      <td>ismcinty@syr.edu</td>\n",
       "    </tr>\n",
       "    <tr>\n",
       "      <th>71</th>\n",
       "      <td>University of Louisville</td>\n",
       "      <td>John Michael Hayden</td>\n",
       "      <td>johnh@GoCards.com</td>\n",
       "    </tr>\n",
       "  </tbody>\n",
       "</table>\n",
       "<p>72 rows × 3 columns</p>\n",
       "</div>"
      ],
      "text/plain": [
       "                College Name      Head Coach Name            Head Coach Email\n",
       "0      Ohio State University    Brian Maisonneuve       maisonneuve.2@osu.edu\n",
       "1        Michigan University          Chaka Daley           ckdaley@umich.edu\n",
       "2      University of Indiana         Todd Yeagley        kprobson@indiana.edu\n",
       "3    Northwestern University          Tim Lenahan  t-lenahan@northwestern.edu\n",
       "4    University of Minnesota          Devin Chuba       dchuba@morris.umn.edu\n",
       "..                       ...                  ...                         ...\n",
       "67  Virginia Tech University      Mike Brizendine            vtmsoccer@vt.edu\n",
       "68   Wake Forrest University          Bobby Muuss             muussrp@wfu.edu\n",
       "69  University of Pittsburgh         Jay Vidovich  msoccer@athletics.pitt.edu\n",
       "70       Syracuse University         Ian McIntyre            ismcinty@syr.edu\n",
       "71  University of Louisville  John Michael Hayden           johnh@GoCards.com\n",
       "\n",
       "[72 rows x 3 columns]"
      ]
     },
     "execution_count": 1,
     "metadata": {},
     "output_type": "execute_result"
    }
   ],
   "source": [
    "import pandas as pd\n",
    "from pandas import ExcelWriter\n",
    "from pandas import ExcelFile\n",
    "\n",
    "df = pd.read_excel('Soccer.xlsx')\n",
    "\n",
    "df"
   ]
  },
  {
   "cell_type": "code",
   "execution_count": 2,
   "metadata": {},
   "outputs": [
    {
     "name": "stdout",
     "output_type": "stream",
     "text": [
      "Requirement already satisfied: ipython-sql in ./opt/anaconda3/lib/python3.8/site-packages (0.4.0)\n",
      "Requirement already satisfied: sqlparse in ./opt/anaconda3/lib/python3.8/site-packages (from ipython-sql) (0.4.1)\n",
      "Requirement already satisfied: sqlalchemy>=0.6.7 in ./opt/anaconda3/lib/python3.8/site-packages (from ipython-sql) (1.3.20)\n",
      "Requirement already satisfied: six in ./opt/anaconda3/lib/python3.8/site-packages (from ipython-sql) (1.15.0)\n",
      "Requirement already satisfied: prettytable<1 in ./opt/anaconda3/lib/python3.8/site-packages (from ipython-sql) (0.7.2)\n",
      "Requirement already satisfied: ipython-genutils>=0.1.0 in ./opt/anaconda3/lib/python3.8/site-packages (from ipython-sql) (0.2.0)\n",
      "Requirement already satisfied: ipython>=1.0 in ./opt/anaconda3/lib/python3.8/site-packages (from ipython-sql) (7.19.0)\n",
      "Requirement already satisfied: setuptools>=18.5 in ./opt/anaconda3/lib/python3.8/site-packages (from ipython>=1.0->ipython-sql) (50.3.1.post20201107)\n",
      "Requirement already satisfied: prompt-toolkit!=3.0.0,!=3.0.1,<3.1.0,>=2.0.0 in ./opt/anaconda3/lib/python3.8/site-packages (from ipython>=1.0->ipython-sql) (3.0.8)\n",
      "Requirement already satisfied: pygments in ./opt/anaconda3/lib/python3.8/site-packages (from ipython>=1.0->ipython-sql) (2.7.2)\n",
      "Requirement already satisfied: jedi>=0.10 in ./opt/anaconda3/lib/python3.8/site-packages (from ipython>=1.0->ipython-sql) (0.17.1)\n",
      "Requirement already satisfied: appnope; sys_platform == \"darwin\" in ./opt/anaconda3/lib/python3.8/site-packages (from ipython>=1.0->ipython-sql) (0.1.0)\n",
      "Requirement already satisfied: pickleshare in ./opt/anaconda3/lib/python3.8/site-packages (from ipython>=1.0->ipython-sql) (0.7.5)\n",
      "Requirement already satisfied: backcall in ./opt/anaconda3/lib/python3.8/site-packages (from ipython>=1.0->ipython-sql) (0.2.0)\n",
      "Requirement already satisfied: traitlets>=4.2 in ./opt/anaconda3/lib/python3.8/site-packages (from ipython>=1.0->ipython-sql) (5.0.5)\n",
      "Requirement already satisfied: decorator in ./opt/anaconda3/lib/python3.8/site-packages (from ipython>=1.0->ipython-sql) (4.4.2)\n",
      "Requirement already satisfied: pexpect>4.3; sys_platform != \"win32\" in ./opt/anaconda3/lib/python3.8/site-packages (from ipython>=1.0->ipython-sql) (4.8.0)\n",
      "Requirement already satisfied: wcwidth in ./opt/anaconda3/lib/python3.8/site-packages (from prompt-toolkit!=3.0.0,!=3.0.1,<3.1.0,>=2.0.0->ipython>=1.0->ipython-sql) (0.2.5)\n",
      "Requirement already satisfied: parso<0.8.0,>=0.7.0 in ./opt/anaconda3/lib/python3.8/site-packages (from jedi>=0.10->ipython>=1.0->ipython-sql) (0.7.0)\n",
      "Requirement already satisfied: ptyprocess>=0.5 in ./opt/anaconda3/lib/python3.8/site-packages (from pexpect>4.3; sys_platform != \"win32\"->ipython>=1.0->ipython-sql) (0.6.0)\n"
     ]
    }
   ],
   "source": [
    "!pip install ipython-sql\n"
   ]
  },
  {
   "cell_type": "code",
   "execution_count": 3,
   "metadata": {},
   "outputs": [],
   "source": [
    "import sqlite3"
   ]
  },
  {
   "cell_type": "code",
   "execution_count": 4,
   "metadata": {},
   "outputs": [],
   "source": [
    "dbname = 'SoccerDataDb'\n",
    "conn = sqlite3.connect(dbname + '.sqlite')"
   ]
  },
  {
   "cell_type": "code",
   "execution_count": 9,
   "metadata": {},
   "outputs": [
    {
     "name": "stdout",
     "output_type": "stream",
     "text": [
      "(0, 'Ohio State University', 'Brian Maisonneuve', 'maisonneuve.2@osu.edu')\n",
      "(1, 'Michigan University', 'Chaka Daley', 'ckdaley@umich.edu')\n",
      "(2, 'University of Indiana', 'Todd Yeagley', 'kprobson@indiana.edu')\n",
      "(3, 'Northwestern University', 'Tim Lenahan', 't-lenahan@northwestern.edu')\n",
      "(4, 'University of Minnesota', 'Devin Chuba', 'dchuba@morris.umn.edu')\n",
      "(5, 'University of Wisconsin', 'John Trask', None)\n",
      "(6, 'Purdue University', 'Drew Roff', 'aroff@purdue.edu')\n",
      "(7, 'Penn State University', 'Jeff Cook', 'msoc@athletics.psu.edu')\n",
      "(8, 'University of Illinois', 'Janet Rayfield', 'rayfield@illinois.edu')\n",
      "(9, 'Michigan State University', 'Damon Rensing', 'rensingd@ath.msu.edu')\n",
      "(10, 'University of Iowa', 'Dave Dilanni', 'david-diianni@iowasoccer.com')\n",
      "(11, 'University of Nebraska', 'John Walker', 'jwalker@huskers.com')\n",
      "(12, 'Rutgers University', 'Dan Donigan', 'ddonigan@scarletknights.com')\n",
      "(13, 'Maryland University', 'Sasho Cirovski', 'sasho@umd.edu')\n",
      "(14, 'Harvard University', 'Josh Shapiro', 'msoccer@fas.harvard.edu')\n",
      "(15, 'Princeton University', 'Jim Barlow', 'jimbarlo@princeton.edu')\n",
      "(16, 'Yale University', 'Kylie Stannard', 'kylie.stannard@yale.edu')\n",
      "(17, 'Columbia University', 'Kevin Anderson', 'kma2105@columbia.edu')\n",
      "(18, 'Brown University', 'Patrick Laughlin', 'Patrick_Laughlin@brown.edu')\n",
      "(19, 'Cornell University', 'John Smith', 'msoccer@cornell.edu')\n",
      "(20, 'Darthmouth College', 'Bo Oshoniyi', 'oshoniyi@etsu.edu')\n",
      "(21, 'University of Pennslyvania', 'Brian Gill', 'brgill@upenn.edu')\n",
      "(22, 'University of Alabama', 'Wes Hart', 'mpiserchio@ia.ua.edu')\n",
      "(23, 'University of Arkansas', 'Colby Hale', 'cah013@uark.edu')\n",
      "(24, 'University of Auburn', 'Karen Hoppa', 'soccer@auburn.edu')\n",
      "(25, 'University of Florida', 'Becky Burleigh', 'beckyb@gators.ufl.edu')\n",
      "(26, 'University of Georgia', 'Billy Lesesne', 'billyl@sports.uga.edu')\n",
      "(27, 'University of Kentucky', 'Ian Carry', 'ian.carry@uky.edu')\n",
      "(28, 'Lousiana State University', 'Sian Hudson', 'shudson@lsu.edu')\n",
      "(29, 'Ole Mississippi University', 'Matt Mott', 'mmott@olemiss.edu')\n",
      "(30, 'Mississippi State University', 'James Armstrong', 'jarmstrong@athletics.msstate.edu')\n",
      "(31, 'University of South Carolina', 'Mark Berson', 'markb@mailbox.sc.edu')\n",
      "(32, 'University of Tenneesee', 'Brian Pensky', 'jmorga79@utk.edu')\n",
      "(33, 'Vanderbilt University', 'Darren Ambrose', 'vusoccer@vanderbilt.edu')\n",
      "(34, 'Texas A&M University', 'G Guerrieri', 'SoccerCoach@athletics.tamu.edu')\n",
      "(35, 'University of Missouri', 'Brian Blitz', 'blitzb@missouri.edu')\n",
      "(36, 'Amherst', 'Justin Serpone', 'serpone@amherst')\n",
      "(37, 'Bates', 'Tyler Sheikh', 'tsheikh@bates.edu')\n",
      "(38, 'Bowdoin', 'Peter Mills', 'pmills@bowdoin.edu')\n",
      "(39, 'Colby', 'Ewan Seabrook', 'eseabroo@colby.edu')\n",
      "(40, 'Hamilton', 'Perry Nizzi', 'pnizzi@hamilton.edu')\n",
      "(41, 'Middlebury', 'Alex Elias', 'aelias@middlebury.edu')\n",
      "(42, 'Trinity', 'Michael Pilger', 'michael.pilger@trincoll.edu')\n",
      "(43, 'Tufts', 'Josh Shapiro', 'menssoccer@tufts.edu')\n",
      "(44, 'Wesleyan', 'Geoff Wheeler', 'gwheeler@wesleyan.edu')\n",
      "(45, 'Williams', 'Erin Sullivan', 'Erin.Sullivan@williams.edu')\n",
      "(46, 'University of Arizona', 'Tony Amato', 'tonyamato@arizona.edu')\n",
      "(47, 'Arizona State University', 'Graham Winkworth', 'Graham.Winkworth@asu.edu')\n",
      "(48, 'University of California', 'Kevin Grimes', 'alsoccer@berkeley.edu')\n",
      "(49, 'University of Oregon', 'Graeme Abel', 'gabel@uoregon.edu')\n",
      "(50, 'Oregon State University', 'Terry Boss', 'terence.boss@oregonstate.edu')\n",
      "(51, 'Stanford University', 'Jermey Gunn', 'smsoccer@stanford.ed')\n",
      "(52, 'UCLA', 'Ryan Jorden', 'msoccer@athletics.ucla.edu')\n",
      "(53, 'USC', 'Keidane McAlpine', 'soccer@usc.edu')\n",
      "(54, 'U. Washington', 'Jamie Clark', 'sclark@uw.edu')\n",
      "(55, 'Washington State University', 'Todd Shulenberger', 'todd.shulenberger@wsu.edu')\n",
      "(56, 'University of Colorado', 'Danny Sanchez', 'danny.sanchez@colorado.edu')\n",
      "(57, 'University of Utah', 'Rich Manning', 'rmanning@huntsman.utah.edu')\n",
      "(58, 'Boston College', 'Bob Thompson', 'msoccer@uml.edu')\n",
      "(59, 'Clemson University', 'Mike Noonan', 'msoccer@clemson.edu')\n",
      "(60, 'Duke University', 'John Kerr', 'jjk21@duke.edu')\n",
      "(61, 'Florida State University', 'Mark Krikorian', 'mkrikorian@admin.fsu.edu')\n",
      "(62, 'Georgia Tech University', None, None)\n",
      "(63, 'University of Miami', 'Sarah Barnes', 'barnes.s@miami.edu')\n",
      "(64, 'University of North Carolina', 'Carlos Somoano', 'csomoano@uncaa.unc.edu')\n",
      "(65, 'North Carolina State University', 'George Kiefer', 'grkiefer@ncsu.edu')\n",
      "(66, 'University of Virginia', 'George Gelnovatch', 'gg4n@virginia.edu')\n",
      "(67, 'Virginia Tech University', 'Mike Brizendine', 'vtmsoccer@vt.edu')\n",
      "(68, 'Wake Forrest University', 'Bobby Muuss', 'muussrp@wfu.edu')\n",
      "(69, 'University of Pittsburgh', 'Jay Vidovich', 'msoccer@athletics.pitt.edu')\n",
      "(70, 'Syracuse University', 'Ian McIntyre', 'ismcinty@syr.edu')\n",
      "(71, 'University of Louisville', 'John Michael Hayden', 'johnh@GoCards.com')\n"
     ]
    }
   ],
   "source": [
    "S = conn.cursor()\n",
    "S.execute('SELECT * FROM SoccerCoach')\n",
    "for row in S:\n",
    "    print(row)"
   ]
  },
  {
   "cell_type": "code",
   "execution_count": 7,
   "metadata": {},
   "outputs": [],
   "source": [
    "df.to_sql(name='SoccerCoach', con=conn)"
   ]
  },
  {
   "cell_type": "code",
   "execution_count": null,
   "metadata": {},
   "outputs": [],
   "source": []
  },
  {
   "cell_type": "code",
   "execution_count": null,
   "metadata": {},
   "outputs": [],
   "source": []
  },
  {
   "cell_type": "code",
   "execution_count": null,
   "metadata": {},
   "outputs": [],
   "source": []
  },
  {
   "cell_type": "code",
   "execution_count": null,
   "metadata": {},
   "outputs": [],
   "source": []
  }
 ],
 "metadata": {
  "kernelspec": {
   "display_name": "Python 3",
   "language": "python",
   "name": "python3"
  },
  "language_info": {
   "codemirror_mode": {
    "name": "ipython",
    "version": 3
   },
   "file_extension": ".py",
   "mimetype": "text/x-python",
   "name": "python",
   "nbconvert_exporter": "python",
   "pygments_lexer": "ipython3",
   "version": "3.8.5"
  }
 },
 "nbformat": 4,
 "nbformat_minor": 4
}
