{
 "cells": [
  {
   "cell_type": "code",
   "execution_count": 9,
   "metadata": {},
   "outputs": [
    {
     "data": {
      "text/html": [
       "<div>\n",
       "<style scoped>\n",
       "    .dataframe tbody tr th:only-of-type {\n",
       "        vertical-align: middle;\n",
       "    }\n",
       "\n",
       "    .dataframe tbody tr th {\n",
       "        vertical-align: top;\n",
       "    }\n",
       "\n",
       "    .dataframe thead th {\n",
       "        text-align: right;\n",
       "    }\n",
       "</style>\n",
       "<table border=\"1\" class=\"dataframe\">\n",
       "  <thead>\n",
       "    <tr style=\"text-align: right;\">\n",
       "      <th></th>\n",
       "      <th>College Name</th>\n",
       "      <th>Head Coach Name</th>\n",
       "      <th>Head Coach Email</th>\n",
       "    </tr>\n",
       "  </thead>\n",
       "  <tbody>\n",
       "    <tr>\n",
       "      <th>0</th>\n",
       "      <td>Ohio State University</td>\n",
       "      <td>Sara Vergote</td>\n",
       "      <td>vergote.2@osu.edu</td>\n",
       "    </tr>\n",
       "    <tr>\n",
       "      <th>1</th>\n",
       "      <td>Michigan University</td>\n",
       "      <td>Jerry Clayton</td>\n",
       "      <td>claytj@umich.edu</td>\n",
       "    </tr>\n",
       "    <tr>\n",
       "      <th>2</th>\n",
       "      <td>University of Indiana</td>\n",
       "      <td>Ron Helmer</td>\n",
       "      <td>rhelmer@indiana.edu</td>\n",
       "    </tr>\n",
       "    <tr>\n",
       "      <th>3</th>\n",
       "      <td>Northwestern University</td>\n",
       "      <td>Scott Bahrke</td>\n",
       "      <td>scott.bahrke@nwciowa.edu</td>\n",
       "    </tr>\n",
       "    <tr>\n",
       "      <th>4</th>\n",
       "      <td>University of Minnesota</td>\n",
       "      <td>Matt Bingle</td>\n",
       "      <td>bingl001@umn.edu</td>\n",
       "    </tr>\n",
       "    <tr>\n",
       "      <th>...</th>\n",
       "      <td>...</td>\n",
       "      <td>...</td>\n",
       "      <td>...</td>\n",
       "    </tr>\n",
       "    <tr>\n",
       "      <th>67</th>\n",
       "      <td>Virginia Tech University</td>\n",
       "      <td>Dave Cianelli</td>\n",
       "      <td>dcianell@vt.edu</td>\n",
       "    </tr>\n",
       "    <tr>\n",
       "      <th>68</th>\n",
       "      <td>Wake Forrest University</td>\n",
       "      <td>John Hayes</td>\n",
       "      <td>hayesjw@wfu.edu</td>\n",
       "    </tr>\n",
       "    <tr>\n",
       "      <th>69</th>\n",
       "      <td>University of Pittsburgh</td>\n",
       "      <td>Alonzo Webb</td>\n",
       "      <td>awebb@athletics.pitt.edu</td>\n",
       "    </tr>\n",
       "    <tr>\n",
       "      <th>70</th>\n",
       "      <td>Syracuse University</td>\n",
       "      <td>Brien Bell</td>\n",
       "      <td>bbell@syr.edu</td>\n",
       "    </tr>\n",
       "    <tr>\n",
       "      <th>71</th>\n",
       "      <td>University of Louisville</td>\n",
       "      <td>Dale Cowper</td>\n",
       "      <td>dale@GoCards.com\\n</td>\n",
       "    </tr>\n",
       "  </tbody>\n",
       "</table>\n",
       "<p>72 rows × 3 columns</p>\n",
       "</div>"
      ],
      "text/plain": [
       "                College Name Head Coach Name          Head Coach Email\n",
       "0      Ohio State University    Sara Vergote         vergote.2@osu.edu\n",
       "1        Michigan University   Jerry Clayton          claytj@umich.edu\n",
       "2      University of Indiana      Ron Helmer       rhelmer@indiana.edu\n",
       "3    Northwestern University    Scott Bahrke  scott.bahrke@nwciowa.edu\n",
       "4    University of Minnesota     Matt Bingle          bingl001@umn.edu\n",
       "..                       ...             ...                       ...\n",
       "67  Virginia Tech University   Dave Cianelli           dcianell@vt.edu\n",
       "68   Wake Forrest University      John Hayes           hayesjw@wfu.edu\n",
       "69  University of Pittsburgh     Alonzo Webb  awebb@athletics.pitt.edu\n",
       "70       Syracuse University      Brien Bell             bbell@syr.edu\n",
       "71  University of Louisville     Dale Cowper        dale@GoCards.com\\n\n",
       "\n",
       "[72 rows x 3 columns]"
      ]
     },
     "execution_count": 9,
     "metadata": {},
     "output_type": "execute_result"
    }
   ],
   "source": [
    "import pandas as pd\n",
    "from pandas import ExcelWriter\n",
    "from pandas import ExcelFile\n",
    "\n",
    "df = pd.read_excel('TrackCoach.xlsx')\n",
    "\n",
    "df"
   ]
  },
  {
   "cell_type": "code",
   "execution_count": 3,
   "metadata": {},
   "outputs": [
    {
     "name": "stdout",
     "output_type": "stream",
     "text": [
      "Requirement already satisfied: ipython-sql in ./opt/anaconda3/lib/python3.8/site-packages (0.4.0)\n",
      "Requirement already satisfied: sqlparse in ./opt/anaconda3/lib/python3.8/site-packages (from ipython-sql) (0.4.1)\n",
      "Requirement already satisfied: prettytable<1 in ./opt/anaconda3/lib/python3.8/site-packages (from ipython-sql) (0.7.2)\n",
      "Requirement already satisfied: ipython>=1.0 in ./opt/anaconda3/lib/python3.8/site-packages (from ipython-sql) (7.19.0)\n",
      "Requirement already satisfied: six in ./opt/anaconda3/lib/python3.8/site-packages (from ipython-sql) (1.15.0)\n",
      "Requirement already satisfied: ipython-genutils>=0.1.0 in ./opt/anaconda3/lib/python3.8/site-packages (from ipython-sql) (0.2.0)\n",
      "Requirement already satisfied: sqlalchemy>=0.6.7 in ./opt/anaconda3/lib/python3.8/site-packages (from ipython-sql) (1.3.20)\n",
      "Requirement already satisfied: backcall in ./opt/anaconda3/lib/python3.8/site-packages (from ipython>=1.0->ipython-sql) (0.2.0)\n",
      "Requirement already satisfied: pexpect>4.3; sys_platform != \"win32\" in ./opt/anaconda3/lib/python3.8/site-packages (from ipython>=1.0->ipython-sql) (4.8.0)\n",
      "Requirement already satisfied: setuptools>=18.5 in ./opt/anaconda3/lib/python3.8/site-packages (from ipython>=1.0->ipython-sql) (50.3.1.post20201107)\n",
      "Requirement already satisfied: pickleshare in ./opt/anaconda3/lib/python3.8/site-packages (from ipython>=1.0->ipython-sql) (0.7.5)\n",
      "Requirement already satisfied: decorator in ./opt/anaconda3/lib/python3.8/site-packages (from ipython>=1.0->ipython-sql) (4.4.2)\n",
      "Requirement already satisfied: pygments in ./opt/anaconda3/lib/python3.8/site-packages (from ipython>=1.0->ipython-sql) (2.7.2)\n",
      "Requirement already satisfied: appnope; sys_platform == \"darwin\" in ./opt/anaconda3/lib/python3.8/site-packages (from ipython>=1.0->ipython-sql) (0.1.0)\n",
      "Requirement already satisfied: traitlets>=4.2 in ./opt/anaconda3/lib/python3.8/site-packages (from ipython>=1.0->ipython-sql) (5.0.5)\n",
      "Requirement already satisfied: prompt-toolkit!=3.0.0,!=3.0.1,<3.1.0,>=2.0.0 in ./opt/anaconda3/lib/python3.8/site-packages (from ipython>=1.0->ipython-sql) (3.0.8)\n",
      "Requirement already satisfied: jedi>=0.10 in ./opt/anaconda3/lib/python3.8/site-packages (from ipython>=1.0->ipython-sql) (0.17.1)\n",
      "Requirement already satisfied: ptyprocess>=0.5 in ./opt/anaconda3/lib/python3.8/site-packages (from pexpect>4.3; sys_platform != \"win32\"->ipython>=1.0->ipython-sql) (0.6.0)\n",
      "Requirement already satisfied: wcwidth in ./opt/anaconda3/lib/python3.8/site-packages (from prompt-toolkit!=3.0.0,!=3.0.1,<3.1.0,>=2.0.0->ipython>=1.0->ipython-sql) (0.2.5)\n",
      "Requirement already satisfied: parso<0.8.0,>=0.7.0 in ./opt/anaconda3/lib/python3.8/site-packages (from jedi>=0.10->ipython>=1.0->ipython-sql) (0.7.0)\n"
     ]
    }
   ],
   "source": [
    "!pip install ipython-sql"
   ]
  },
  {
   "cell_type": "code",
   "execution_count": 4,
   "metadata": {},
   "outputs": [],
   "source": [
    "import sqlite3"
   ]
  },
  {
   "cell_type": "code",
   "execution_count": 5,
   "metadata": {},
   "outputs": [],
   "source": [
    "dbname = 'TrackDataDb'\n",
    "conn = sqlite3.connect(dbname + '.sqlite')"
   ]
  },
  {
   "cell_type": "code",
   "execution_count": 14,
   "metadata": {},
   "outputs": [
    {
     "name": "stdout",
     "output_type": "stream",
     "text": [
      "(0, 'Ohio State University', 'Sara Vergote', 'vergote.2@osu.edu')\n",
      "(1, 'Michigan University', 'Jerry Clayton', 'claytj@umich.edu')\n",
      "(2, 'University of Indiana', 'Ron Helmer', 'rhelmer@indiana.edu')\n",
      "(3, 'Northwestern University', 'Scott Bahrke', 'scott.bahrke@nwciowa.edu')\n",
      "(4, 'University of Minnesota', 'Matt Bingle', 'bingl001@umn.edu')\n",
      "(5, 'University of Wisconsin', 'Rick Witt', 'rwitt@uwsp.edu')\n",
      "(6, 'Purdue University', 'Angela Elliott', 'goodman8@purdue.edu')\n",
      "(7, 'Penn State University', 'John Gondak', 'jeg33@psu.edu')\n",
      "(8, 'University of Illinois', 'Mike Turk', 'miketurk@illinois.edu')\n",
      "(9, 'Michigan State University', 'Yolanda Johnson', 'john5733@ath.msu.edu')\n",
      "(10, 'University of Iowa', 'Joey Woody', 'joey-woody@uiowa.edu')\n",
      "(11, 'University of Nebraska', 'Chris Richardson', 'ccrichardson@omavs.com')\n",
      "(12, 'Rutgers University', 'Bob Farrell', 'rfarrell@scarletknights.com')\n",
      "(13, 'Maryland University', 'Andrew Valmon', 'avalmon@umd.edu')\n",
      "(14, 'Harvard University', 'Jason Saretsky', 'trackandfieldxc@fas.harvard.edu')\n",
      "(15, 'Princeton University', 'Jason Vigilante', 'jasonv@princeton.edu')\n",
      "(16, 'Yale University', 'Matt Gutridge', 'matt.gutridge@yale.edu')\n",
      "(17, 'Columbia University', 'Daniel Ireland', 'dli2108@columbia.edu')\n",
      "(18, 'Brown University', 'Craig Kinsley', 'craig_kinsley@brown.edu')\n",
      "(19, 'Cornell University', 'Justin Byron', 'jb2633@cornell.edu')\n",
      "(20, 'Darthmouth College', 'Porscha Dobson', 'Porscha.A.Dobson@dartmouth.edu')\n",
      "(21, 'University of Pennslyvania', 'Steve Dolan', 'stdolan@upenn.edu')\n",
      "(22, 'University of Alabama', 'Dan Waters', 'dwaters@ia.ua.edu')\n",
      "(23, 'University of Arkansas', 'Mark Hinton', 'mahinton@uark.edu')\n",
      "(24, 'University of Auburn', 'Ralph Spry', 'spryral@auburn.edu')\n",
      "(25, 'University of Florida', 'Mike Holloway', 'mouseh@gators.ufl.edu')\n",
      "(26, 'University of Georgia', 'Patrick Cunniff', 'pcunniff@sports.uga.edu')\n",
      "(27, 'University of Kentucky', 'Lonnie Greene', 'rgreene@uky.edu')\n",
      "(28, 'Lousiana State University', 'Dennis Shaver', 'shaver@lsu.edu')\n",
      "(29, 'Ole Mississippi University', 'Connie Price-Smith', 'cmprices@olemiss.edu')\n",
      "(30, 'Mississippi State University', 'Chris Woods', 'cwoods@athletics.msstate.edu')\n",
      "(31, 'University of South Carolina', 'Mike Sergent', 'msergent@mailbox.sc.edu')\n",
      "(32, 'University of Tenneesee', 'Beth Alford-Sullivan', 'basullivan@tennessee.edu')\n",
      "(33, 'Vanderbilt University', 'Clark Humphreys', 'clark.humphreys@vanderbilt.edu')\n",
      "(34, 'Texas A&M University', 'Pat Henry', 'phenry@athletics.tamu.edu')\n",
      "(35, 'University of Missouri', 'Brett Halter', 'halterb@missouri.edu')\n",
      "(36, 'Amherst', 'Jackie Bagwell', 'jkbagwell@amherst.edu')\n",
      "(37, 'Bates', 'Al Fereshetian', 'afereshe@bates.edu')\n",
      "(38, 'Bowdoin', 'Peter Slovenski', 'pslovens@bowdoin.edu')\n",
      "(39, 'Colby', 'David Cusano Jr.', 'david.cusano@colby.edu')\n",
      "(40, 'Hamilton', 'Brett Hull', 'bhull@hamilton.edu')\n",
      "(41, 'Middlebury', 'Martin Beatty', 'beatty@middlebury.edu')\n",
      "(42, 'Trinity', 'Bob Brickman', 'bob.brickman@trnty.edu')\n",
      "(43, 'Tufts', 'Joel Williams', 'joel.williams@tufts.edu')\n",
      "(44, 'Wesleyan', 'Walter Curry', 'wcurry@wesleyan.edu')\n",
      "(45, 'Williams', 'Peter Farwell', 'Fletcher.A.Brooks@williams.edu')\n",
      "(46, 'University of Arizona', 'Fred Harvey', 'flh@arizona.edu')\n",
      "(47, 'Arizona State University', 'Dion Miller', 'Dion.Miller@asu.edu')\n",
      "(48, 'University of California', 'Mike Gipson', 'mgipson@berkeley.edu')\n",
      "(49, 'University of Oregon', 'Robert Johnson', 'oregonf@uoregon.edu')\n",
      "(50, 'Oregon State University', 'Louie Quintana', 'Louie.Quintana@oregonstate.edu')\n",
      "(51, 'Stanford University', 'J.J. Clark', 'jjclark1@stanford.edu')\n",
      "(52, 'UCLA', 'Avery Anderson', 'aanderson@athletics.ucla.edu')\n",
      "(53, 'USC', 'Caryl Smith Gilbert', 'usctfxc@usc.edu')\n",
      "(54, 'U. Washington', 'Andy Powell', 'acpowell@uw.edu')\n",
      "(55, 'Washington State University', 'Wayne Phipps', 'wayne.phipps@wsu.edu')\n",
      "(56, 'University of Colorado', 'Mark Wetmore', 'mark.wetmore@colorado.edu')\n",
      "(57, 'University of Utah', 'Erik Rasmussen', 'erik.rasmusser@usu.edu')\n",
      "(58, 'Boston College', 'Matt Kerr', 'mens.track@bc.edu')\n",
      "(59, 'Clemson University', 'Mark Elliott', 'maellio@clemson.edu')\n",
      "(60, 'Duke University', 'Shawn Wilbourn', 'shawn.wilbourn@duke.edu')\n",
      "(61, 'Florida State University', 'Bob Braman', 'rbraman@mailer.fsu.edu')\n",
      "(62, 'Georgia Tech University', 'Grover Hinsdale', 'ghinsdale@athletics.gatech.edu')\n",
      "(63, 'University of Miami', 'Amy Deem', 'adeem@miami.edu')\n",
      "(64, 'University of North Carolina', 'Chris Miltenberg', 'coachmilt@unc.edu')\n",
      "(65, 'North Carolina State University', 'Rollie Geiger', 'rggeiger@ncsu.edu')\n",
      "(66, 'University of Virginia', 'Jason Dunn', 'jd8h@Virginia.edu')\n",
      "(67, 'Virginia Tech University', 'Dave Cianelli', 'dcianell@vt.edu')\n",
      "(68, 'Wake Forrest University', 'John Hayes', 'hayesjw@wfu.edu')\n",
      "(69, 'University of Pittsburgh', 'Alonzo Webb', 'awebb@athletics.pitt.edu')\n",
      "(70, 'Syracuse University', 'Brien Bell', 'bbell@syr.edu')\n",
      "(71, 'University of Louisville', 'Dale Cowper', 'dale@GoCards.com\\n')\n"
     ]
    }
   ],
   "source": [
    "T = conn.cursor()\n",
    "T.execute('SELECT * FROM TrackCoach')\n",
    "for row in T:\n",
    "    print(row)"
   ]
  },
  {
   "cell_type": "code",
   "execution_count": 7,
   "metadata": {},
   "outputs": [
    {
     "name": "stderr",
     "output_type": "stream",
     "text": [
      "/Users/aayushdeshpande/opt/anaconda3/lib/python3.8/site-packages/pandas/core/generic.py:2605: UserWarning: The spaces in these column names will not be changed. In pandas versions < 0.14, spaces were converted to underscores.\n",
      "  sql.to_sql(\n"
     ]
    }
   ],
   "source": [
    "df.to_sql(name='TrackCoach', con=conn)"
   ]
  },
  {
   "cell_type": "code",
   "execution_count": null,
   "metadata": {},
   "outputs": [],
   "source": []
  }
 ],
 "metadata": {
  "kernelspec": {
   "display_name": "Python 3",
   "language": "python",
   "name": "python3"
  },
  "language_info": {
   "codemirror_mode": {
    "name": "ipython",
    "version": 3
   },
   "file_extension": ".py",
   "mimetype": "text/x-python",
   "name": "python",
   "nbconvert_exporter": "python",
   "pygments_lexer": "ipython3",
   "version": "3.8.5"
  }
 },
 "nbformat": 4,
 "nbformat_minor": 4
}
